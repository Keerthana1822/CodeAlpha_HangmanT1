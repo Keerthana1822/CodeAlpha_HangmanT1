{
 "cells": [
  {
   "cell_type": "code",
   "execution_count": null,
   "id": "d5eb2714-2654-45fb-83a7-af227b9cec2a",
   "metadata": {},
   "outputs": [
    {
     "name": "stdout",
     "output_type": "stream",
     "text": [
      "Welcome to Hangman Game!\n",
      "Play and Enjoy the Game :)\n",
      "Try to guess the word as much as possible, one letter at a time is allowed!.\n",
      "The word has 6 letters: _ _ _ _ _ _\n"
     ]
    }
   ],
   "source": [
    "import random\n",
    "\n",
    "def hangman():\n",
    "    # List of possible words\n",
    "    word_list = [\"python\", \"hangman\", \"programming\", \"challenge\", \"random\",\"words\", \"guesses\", \"gaming\"]\n",
    "    # Randomly select a word from the list\n",
    "    word = random.choice(word_list)\n",
    "    # Keep track of correct guesses\n",
    "    guessed_word = [\"_\"] * len(word)\n",
    "    # Set the maximum number of incorrect guesses\n",
    "    max_attempts = 7\n",
    "    attempts = 0\n",
    "    # Store guessed letters\n",
    "    guessed_letters = set()\n",
    "\n",
    "    print(\"Welcome to Hangman Game!\")\n",
    "    print(\"Play and Enjoy the Game :)\")\n",
    "    print(\"Try to guess the word as much as possible, one letter at a time is allowed!.\")\n",
    "    print(f\"The word has {len(word)} letters: {' '.join(guessed_word)}\")\n",
    "\n",
    "    while attempts < max_attempts and \"_\" in guessed_word:\n",
    "        # Prompt the user for input\n",
    "        guess = input(\"\\nEnter a letter: \").lower()\n",
    "        # Validate input\n",
    "        if len(guess) != 1 or not guess.isalpha():\n",
    "            print(\"Please enter a single letter.\")\n",
    "            continue\n",
    "        if guess in guessed_letters:\n",
    "            print(\"You already guessed that letter. Try a different one.\")\n",
    "            continue\n",
    "\n",
    "        guessed_letters.add(guess)\n",
    "\n",
    "        if guess in word:\n",
    "            print(f\"Good job! {guess} is in the word.\")\n",
    "            # Update the guessed word with the correct letter\n",
    "            for index, letter in enumerate(word):\n",
    "                if letter == guess:\n",
    "                    guessed_word[index] = guess\n",
    "        else:\n",
    "            print(f\"Sorry, {guess} is not in the word.\")\n",
    "            attempts += 1\n",
    "\n",
    "        # Display progress\n",
    "        print(f\"\\nWord: {' '.join(guessed_word)}\")\n",
    "        print(f\"Guesses left: {max_attempts - attempts}\")\n",
    "        print(f\"Guessed letters: {', '.join(sorted(guessed_letters))}\")\n",
    "\n",
    "    # Check if the player has won or lost\n",
    "    if \"_\" not in guessed_word:\n",
    "        print(\"\\nCongratulations! You did it! You guessed the word correctly\")\n",
    "        print(\"\\nYou guessed the word:\", word)\n",
    "    else:\n",
    "        print(\"\\nGame over! The word was:\", word)\n",
    "\n",
    "# Run the game\n",
    "if __name__ == \"__main__\":\n",
    "    hangman()"
   ]
  },
  {
   "cell_type": "code",
   "execution_count": null,
   "id": "6a5ae2ee-bb93-433a-b771-2b0f9b2ef792",
   "metadata": {},
   "outputs": [],
   "source": []
  }
 ],
 "metadata": {
  "kernelspec": {
   "display_name": "Python 3 (ipykernel)",
   "language": "python",
   "name": "python3"
  },
  "language_info": {
   "codemirror_mode": {
    "name": "ipython",
    "version": 3
   },
   "file_extension": ".py",
   "mimetype": "text/x-python",
   "name": "python",
   "nbconvert_exporter": "python",
   "pygments_lexer": "ipython3",
   "version": "3.12.7"
  }
 },
 "nbformat": 4,
 "nbformat_minor": 5
}
